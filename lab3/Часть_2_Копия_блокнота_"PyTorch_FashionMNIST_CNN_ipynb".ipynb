{
  "nbformat": 4,
  "nbformat_minor": 0,
  "metadata": {
    "kernelspec": {
      "display_name": "Python 3",
      "language": "python",
      "name": "python3"
    },
    "colab": {
      "provenance": []
    },
    "accelerator": "GPU"
  },
  "cells": [
    {
      "cell_type": "markdown",
      "source": [
        "Я выбрала для выполнения классификации с помощью свёрточной сети набор данных KMNIST - иероглифы кузусидзи"
      ],
      "metadata": {
        "id": "IQhx5yysvgxT"
      }
    },
    {
      "cell_type": "code",
      "metadata": {
        "ExecuteTime": {
          "end_time": "2019-11-11T21:09:22.893628Z",
          "start_time": "2019-11-11T21:09:22.601085Z"
        },
        "id": "OMHVgbzTgyrm"
      },
      "source": [
        "import matplotlib.pyplot as plt\n",
        "import torch\n",
        "from torch import nn\n",
        "import numpy as np\n",
        "import torchvision as tv\n",
        "from sklearn.metrics import confusion_matrix\n",
        "import pandas as pd\n",
        "import seaborn as sns"
      ],
      "execution_count": null,
      "outputs": []
    },
    {
      "cell_type": "code",
      "source": [
        "BATCH_SIZE=64"
      ],
      "metadata": {
        "id": "hBn5hUCusURC"
      },
      "execution_count": null,
      "outputs": []
    },
    {
      "cell_type": "code",
      "source": [
        "train_dataset = tv.datasets.KMNIST(\n",
        "    root='.', train=True, transform=tv.transforms.ToTensor(), download=True\n",
        ")\n",
        "test_dataset = tv.datasets.KMNIST(\n",
        "    root='.', train=False, transform=tv.transforms.ToTensor(), download=True\n",
        ")\n",
        "train = torch.utils.data.DataLoader(train_dataset, batch_size=BATCH_SIZE, shuffle=True)\n",
        "test = torch.utils.data.DataLoader(test_dataset, batch_size=BATCH_SIZE)"
      ],
      "metadata": {
        "colab": {
          "base_uri": "https://localhost:8080/"
        },
        "id": "mC3tWO_rsbaS",
        "outputId": "22b07737-035f-4446-bd0b-93d81ae416e6"
      },
      "execution_count": null,
      "outputs": [
        {
          "output_type": "stream",
          "name": "stdout",
          "text": [
            "Downloading http://codh.rois.ac.jp/kmnist/dataset/kmnist/train-images-idx3-ubyte.gz\n",
            "Downloading http://codh.rois.ac.jp/kmnist/dataset/kmnist/train-images-idx3-ubyte.gz to ./KMNIST/raw/train-images-idx3-ubyte.gz\n"
          ]
        },
        {
          "output_type": "stream",
          "name": "stderr",
          "text": [
            "100%|██████████| 18.2M/18.2M [00:09<00:00, 2.01MB/s]\n"
          ]
        },
        {
          "output_type": "stream",
          "name": "stdout",
          "text": [
            "Extracting ./KMNIST/raw/train-images-idx3-ubyte.gz to ./KMNIST/raw\n",
            "\n",
            "Downloading http://codh.rois.ac.jp/kmnist/dataset/kmnist/train-labels-idx1-ubyte.gz\n",
            "Downloading http://codh.rois.ac.jp/kmnist/dataset/kmnist/train-labels-idx1-ubyte.gz to ./KMNIST/raw/train-labels-idx1-ubyte.gz\n"
          ]
        },
        {
          "output_type": "stream",
          "name": "stderr",
          "text": [
            "100%|██████████| 29.5k/29.5k [00:00<00:00, 374kB/s]\n"
          ]
        },
        {
          "output_type": "stream",
          "name": "stdout",
          "text": [
            "Extracting ./KMNIST/raw/train-labels-idx1-ubyte.gz to ./KMNIST/raw\n",
            "\n",
            "Downloading http://codh.rois.ac.jp/kmnist/dataset/kmnist/t10k-images-idx3-ubyte.gz\n",
            "Downloading http://codh.rois.ac.jp/kmnist/dataset/kmnist/t10k-images-idx3-ubyte.gz to ./KMNIST/raw/t10k-images-idx3-ubyte.gz\n"
          ]
        },
        {
          "output_type": "stream",
          "name": "stderr",
          "text": [
            "100%|██████████| 3.04M/3.04M [00:01<00:00, 1.80MB/s]\n"
          ]
        },
        {
          "output_type": "stream",
          "name": "stdout",
          "text": [
            "Extracting ./KMNIST/raw/t10k-images-idx3-ubyte.gz to ./KMNIST/raw\n",
            "\n",
            "Downloading http://codh.rois.ac.jp/kmnist/dataset/kmnist/t10k-labels-idx1-ubyte.gz\n",
            "Downloading http://codh.rois.ac.jp/kmnist/dataset/kmnist/t10k-labels-idx1-ubyte.gz to ./KMNIST/raw/t10k-labels-idx1-ubyte.gz\n"
          ]
        },
        {
          "output_type": "stream",
          "name": "stderr",
          "text": [
            "100%|██████████| 5.12k/5.12k [00:00<00:00, 19.8MB/s]"
          ]
        },
        {
          "output_type": "stream",
          "name": "stdout",
          "text": [
            "Extracting ./KMNIST/raw/t10k-labels-idx1-ubyte.gz to ./KMNIST/raw\n",
            "\n"
          ]
        },
        {
          "output_type": "stream",
          "name": "stderr",
          "text": [
            "\n"
          ]
        }
      ]
    },
    {
      "cell_type": "code",
      "source": [
        "train_dataset.classes"
      ],
      "metadata": {
        "colab": {
          "base_uri": "https://localhost:8080/"
        },
        "id": "hHskxuZ7st35",
        "outputId": "dd68af8b-d254-4259-d4bb-496b8eed3f0d"
      },
      "execution_count": null,
      "outputs": [
        {
          "output_type": "execute_result",
          "data": {
            "text/plain": [
              "['o', 'ki', 'su', 'tsu', 'na', 'ha', 'ma', 'ya', 're', 'wo']"
            ]
          },
          "metadata": {},
          "execution_count": 4
        }
      ]
    },
    {
      "cell_type": "code",
      "source": [
        "plt.imshow(train_dataset[123][0].numpy().squeeze(), cmap='gray_r')"
      ],
      "metadata": {
        "colab": {
          "base_uri": "https://localhost:8080/",
          "height": 447
        },
        "id": "8HikxfFms0Vp",
        "outputId": "2debd648-0068-4c1b-ee90-c715a78a8601"
      },
      "execution_count": null,
      "outputs": [
        {
          "output_type": "execute_result",
          "data": {
            "text/plain": [
              "<matplotlib.image.AxesImage at 0x7e448e695cc0>"
            ]
          },
          "metadata": {},
          "execution_count": 5
        },
        {
          "output_type": "display_data",
          "data": {
            "text/plain": [
              "<Figure size 640x480 with 1 Axes>"
            ],
            "image/png": "[encoded data removed]"
          },
          "metadata": {}
        }
      ]
    },
    {
      "cell_type": "code",
      "source": [
        "train_dataset[123][0].numpy().shape"
      ],
      "metadata": {
        "colab": {
          "base_uri": "https://localhost:8080/"
        },
        "id": "qB8nZUdNtPm-",
        "outputId": "4bfa1264-f46f-4eee-96d5-0328d813cab2"
      },
      "execution_count": null,
      "outputs": [
        {
          "output_type": "execute_result",
          "data": {
            "text/plain": [
              "(1, 28, 28)"
            ]
          },
          "metadata": {},
          "execution_count": 6
        }
      ]
    },
    {
      "cell_type": "code",
      "source": [
        "model = nn.Sequential(\n",
        "    nn.Conv2d(1, 6, kernel_size=5, padding=2),\n",
        "    nn.ReLU(),\n",
        "    nn.MaxPool2d(2, stride=2),\n",
        "    nn.Conv2d(6, 12, kernel_size=5),\n",
        "    nn.ReLU(),\n",
        "    nn.MaxPool2d(2, stride=2),\n",
        "    nn.Flatten(),\n",
        "    nn.Linear(300, 50),\n",
        "    nn.ReLU(),\n",
        "    nn.Linear(50, 10)\n",
        ")"
      ],
      "metadata": {
        "id": "8r9QbPkTs7BA"
      },
      "execution_count": null,
      "outputs": []
    },
    {
      "cell_type": "code",
      "source": [
        "X = train_dataset[0][0]\n",
        "X = X.reshape(1, 1, 28, 28)\n",
        "print(X.shape)\n",
        "for l in model:\n",
        "    X = l(X)\n",
        "    print(\"Layer {}. X shape: {}\".format(l, X.shape))"
      ],
      "metadata": {
        "colab": {
          "base_uri": "https://localhost:8080/"
        },
        "id": "cREwODputA2B",
        "outputId": "5008f46b-bee7-46e8-f0b0-4b5c51d78848"
      },
      "execution_count": null,
      "outputs": [
        {
          "output_type": "stream",
          "name": "stdout",
          "text": [
            "torch.Size([1, 1, 28, 28])\n",
            "Layer Conv2d(1, 6, kernel_size=(5, 5), stride=(1, 1), padding=(2, 2)). X shape: torch.Size([1, 6, 28, 28])\n",
            "Layer ReLU(). X shape: torch.Size([1, 6, 28, 28])\n",
            "Layer MaxPool2d(kernel_size=2, stride=2, padding=0, dilation=1, ceil_mode=False). X shape: torch.Size([1, 6, 14, 14])\n",
            "Layer Conv2d(6, 12, kernel_size=(5, 5), stride=(1, 1)). X shape: torch.Size([1, 12, 10, 10])\n",
            "Layer ReLU(). X shape: torch.Size([1, 12, 10, 10])\n",
            "Layer MaxPool2d(kernel_size=2, stride=2, padding=0, dilation=1, ceil_mode=False). X shape: torch.Size([1, 12, 5, 5])\n",
            "Layer Flatten(start_dim=1, end_dim=-1). X shape: torch.Size([1, 300])\n",
            "Layer Linear(in_features=300, out_features=50, bias=True). X shape: torch.Size([1, 50])\n",
            "Layer ReLU(). X shape: torch.Size([1, 50])\n",
            "Layer Linear(in_features=50, out_features=10, bias=True). X shape: torch.Size([1, 10])\n"
          ]
        }
      ]
    },
    {
      "cell_type": "code",
      "source": [
        "X = train_dataset[0][0]\n",
        "X = X.reshape(1, 1, 28, 28)\n",
        "y = model(X)\n",
        "print(y.shape)"
      ],
      "metadata": {
        "colab": {
          "base_uri": "https://localhost:8080/"
        },
        "id": "y5mo29IOtj4W",
        "outputId": "974bfe55-65c1-4e3a-bac1-1b4c88725310"
      },
      "execution_count": null,
      "outputs": [
        {
          "output_type": "stream",
          "name": "stdout",
          "text": [
            "torch.Size([1, 10])\n"
          ]
        }
      ]
    },
    {
      "cell_type": "code",
      "source": [
        "dev = torch.device(\"cuda\") if torch.cuda.is_available() else torch.device(\"cpu\")\n",
        "dev"
      ],
      "metadata": {
        "colab": {
          "base_uri": "https://localhost:8080/"
        },
        "id": "hFEWNJP6tnso",
        "outputId": "33e19334-0cc9-4cb8-e9b8-cb06df245818"
      },
      "execution_count": null,
      "outputs": [
        {
          "output_type": "execute_result",
          "data": {
            "text/plain": [
              "device(type='cuda')"
            ]
          },
          "metadata": {},
          "execution_count": 10
        }
      ]
    },
    {
      "cell_type": "code",
      "source": [
        "model = model.to(dev)"
      ],
      "metadata": {
        "id": "qJqk3W56tpPn"
      },
      "execution_count": null,
      "outputs": []
    },
    {
      "cell_type": "code",
      "source": [
        "def evaluate_accuracy(data_iter, net, dev):\n",
        "    acc_sum, n = torch.Tensor([0]).to(dev), 0\n",
        "    for X, y in data_iter:\n",
        "        X, y = X.to(dev), y.to(dev)\n",
        "        acc_sum += (net(X).argmax(axis=1) == y).sum()\n",
        "        n += y.shape[0]\n",
        "    return acc_sum.item() / n"
      ],
      "metadata": {
        "id": "G62XPpfdtsjx"
      },
      "execution_count": null,
      "outputs": []
    },
    {
      "cell_type": "code",
      "source": [
        "def train_model(net, train_iter, test_iter, trainer, num_epochs):\n",
        "    loss = nn.CrossEntropyLoss(reduction='sum')\n",
        "    for epoch in range(num_epochs):\n",
        "        train_l_sum, train_acc_sum, n = 0.0, 0.0, 0\n",
        "        net.train()\n",
        "        for X, y in train_iter:\n",
        "            trainer.zero_grad()\n",
        "            X, y = X.to(dev), y.to(dev)\n",
        "            y_hat = net(X)\n",
        "            l = loss(y_hat, y)\n",
        "            l.backward()\n",
        "            trainer.step()\n",
        "            train_l_sum += l.item()\n",
        "            train_acc_sum += (y_hat.argmax(axis=1) == y).sum().item()\n",
        "            n += y.shape[0]\n",
        "        test_acc = evaluate_accuracy(test_iter, net, dev)\n",
        "        print('epoch %d, loss %.4f, train acc %.3f, test acc %.3f'\n",
        "              % (epoch + 1, train_l_sum / n, train_acc_sum / n, test_acc))"
      ],
      "metadata": {
        "id": "MuWQfnIJttlz"
      },
      "execution_count": null,
      "outputs": []
    },
    {
      "cell_type": "code",
      "source": [
        "lr, num_epochs = 0.001, 10\n",
        "trainer = torch.optim.SGD(model.parameters(), lr=lr)\n",
        "%time train_model(model, train, test, trainer, num_epochs)"
      ],
      "metadata": {
        "colab": {
          "base_uri": "https://localhost:8080/"
        },
        "id": "jhOYy1wftyRW",
        "outputId": "fa3355fc-0770-47ef-809a-d94b367f9edf"
      },
      "execution_count": null,
      "outputs": [
        {
          "output_type": "stream",
          "name": "stdout",
          "text": [
            "epoch 1, loss 0.6197, train acc 0.796, test acc 0.837\n",
            "epoch 2, loss 0.1911, train acc 0.942, test acc 0.882\n",
            "epoch 3, loss 0.1384, train acc 0.958, test acc 0.897\n",
            "epoch 4, loss 0.1086, train acc 0.967, test acc 0.915\n",
            "epoch 5, loss 0.0913, train acc 0.973, test acc 0.910\n",
            "epoch 6, loss 0.0772, train acc 0.977, test acc 0.921\n",
            "epoch 7, loss 0.0663, train acc 0.980, test acc 0.920\n",
            "epoch 8, loss 0.0602, train acc 0.981, test acc 0.926\n",
            "epoch 9, loss 0.0526, train acc 0.984, test acc 0.934\n",
            "epoch 10, loss 0.0465, train acc 0.985, test acc 0.931\n",
            "CPU times: user 1min 33s, sys: 683 ms, total: 1min 34s\n",
            "Wall time: 1min 37s\n"
          ]
        }
      ]
    },
    {
      "cell_type": "markdown",
      "source": [
        "Вывод: значение функции потерь быстро уменьшается. При самом удачном запуске точность на тестовой выборке достигла 93%, что является хорошим показателем. В среднем - 91%. Можно улучшить показатели за счёт свёрточной сети"
      ],
      "metadata": {
        "id": "gUljMqOX5mH9"
      }
    },
    {
      "cell_type": "code",
      "source": [
        "model = nn.Sequential(\n",
        "    nn.Conv2d(1, 64, kernel_size=3, padding=2),\n",
        "    nn.MaxPool2d(3, stride=2, padding=1),\n",
        "    nn.ReLU(),\n",
        "    nn.Conv2d(64, 64, kernel_size=5, padding=2),\n",
        "    nn.MaxPool2d(3, stride=2, padding=1),\n",
        "    nn.ReLU(),\n",
        "    nn.Conv2d(64, 128, kernel_size=3, padding=2),\n",
        "    nn.MaxPool2d(2, stride=2, padding=1),\n",
        "    nn.ReLU(),\n",
        "    nn.Flatten(),\n",
        "    nn.BatchNorm1d(4608),\n",
        "    nn.Linear(4608, 512),\n",
        "    nn.ReLU(),\n",
        "    nn.Dropout(0.5),\n",
        "    nn.Linear(512, 1024),\n",
        "    nn.ReLU(),\n",
        "    nn.Dropout(0.2),\n",
        "    nn.Linear(1024, 10),\n",
        ").to(dev)\n",
        "lr, num_epochs = 0.0003, 10\n",
        "trainer = torch.optim.Adam(model.parameters(), lr=lr)\n",
        "%time train_model(model, train, test, trainer, num_epochs)"
      ],
      "metadata": {
        "colab": {
          "base_uri": "https://localhost:8080/"
        },
        "id": "PoaAxTz6u1ss",
        "outputId": "a0786a16-235d-42ce-f45d-5d0dad07f332"
      },
      "execution_count": null,
      "outputs": [
        {
          "output_type": "stream",
          "name": "stdout",
          "text": [
            "epoch 1, loss 0.2211, train acc 0.931, test acc 0.916\n",
            "epoch 2, loss 0.0842, train acc 0.974, test acc 0.924\n",
            "epoch 3, loss 0.0622, train acc 0.981, test acc 0.937\n",
            "epoch 4, loss 0.0474, train acc 0.985, test acc 0.939\n",
            "epoch 5, loss 0.0439, train acc 0.986, test acc 0.952\n",
            "epoch 6, loss 0.0354, train acc 0.989, test acc 0.951\n",
            "epoch 7, loss 0.0319, train acc 0.990, test acc 0.958\n",
            "epoch 8, loss 0.0270, train acc 0.992, test acc 0.956\n",
            "epoch 9, loss 0.0300, train acc 0.991, test acc 0.954\n",
            "epoch 10, loss 0.0237, train acc 0.992, test acc 0.954\n",
            "CPU times: user 2min 6s, sys: 671 ms, total: 2min 6s\n",
            "Wall time: 2min 7s\n"
          ]
        }
      ]
    },
    {
      "cell_type": "markdown",
      "source": [
        "Вывод: модель обучается более эффективно и достигает более высоких точностей на тестовой выборке. Уже с первого запуска точность >90%, а средний показатель достиг 94% примерно. Итак, высокий уровень точности достигнут"
      ],
      "metadata": {
        "id": "zhqX15149Ba1"
      }
    },
    {
      "cell_type": "code",
      "metadata": {
        "id": "qMu7vdmsiQ0L"
      },
      "source": [
        "y_true = []\n",
        "y_pred_2 = []\n",
        "for X, y in test:\n",
        "  X, y = X.to(dev), y.to(dev)\n",
        "  y_pred_1 = model(X)\n",
        "  y_true.extend(y)\n",
        "  y_pred_2.extend(y_pred_1.argmax(dim=1))"
      ],
      "execution_count": null,
      "outputs": []
    },
    {
      "cell_type": "code",
      "metadata": {
        "id": "xa9T4cHEiQ0N"
      },
      "source": [
        "y_true = [i.item() for i in y_true]\n",
        "y_pred_2 = [i.item() for i in y_pred_2]"
      ],
      "execution_count": null,
      "outputs": []
    },
    {
      "cell_type": "code",
      "metadata": {
        "id": "ivYmPZqriQ0N"
      },
      "source": [
        "conf_mx = confusion_matrix(y_true, y_pred_2, normalize=\"pred\")"
      ],
      "execution_count": null,
      "outputs": []
    },
    {
      "cell_type": "code",
      "metadata": {
        "colab": {
          "base_uri": "https://localhost:8080/",
          "height": 599
        },
        "id": "o0xhWid8iQ0O",
        "outputId": "0b6eccf8-7066-4610-b69c-550f343d73ff"
      },
      "source": [
        "df_cm = pd.DataFrame(conf_mx, index=test_dataset.class_to_idx,\n",
        "                     columns=test_dataset.classes)\n",
        "plt.figure(figsize = (12,7))\n",
        "sns.heatmap(df_cm, annot=True, cmap=\"YlOrBr\");"
      ],
      "execution_count": null,
      "outputs": [
        {
          "output_type": "display_data",
          "data": {
            "text/plain": [
              "<Figure size 1200x700 with 2 Axes>"
            ],
            "image/png": "[encoded data removed]"
          },
          "metadata": {}
        }
      ]
    },
    {
      "cell_type": "markdown",
      "metadata": {
        "id": "AG9nE0EJn7WM"
      },
      "source": [
        "Сильной путаницы между парами иероглифов не видно. Можно только выделить o, na и ki, su, ma, которые чаще остальных модель классифицирует ошибочно. Диагональные элементы определены точно, их показатель >0,92"
      ]
    },
    {
      "cell_type": "markdown",
      "source": [
        "Попробую изменить гиперпараметры, чтобы ещё улучшить показатели"
      ],
      "metadata": {
        "id": "ifOOR3ejEcHn"
      }
    },
    {
      "cell_type": "code",
      "source": [
        "BATCH_SIZE=128"
      ],
      "metadata": {
        "id": "2h-pmP6RD2B-"
      },
      "execution_count": null,
      "outputs": []
    },
    {
      "cell_type": "code",
      "source": [
        "train_dataset = tv.datasets.KMNIST(\n",
        "    root='.', train=True, transform=tv.transforms.ToTensor(), download=True\n",
        ")\n",
        "test_dataset = tv.datasets.KMNIST(\n",
        "    root='.', train=False, transform=tv.transforms.ToTensor(), download=True\n",
        ")\n",
        "train = torch.utils.data.DataLoader(train_dataset, batch_size=BATCH_SIZE, shuffle=True)\n",
        "test = torch.utils.data.DataLoader(test_dataset, batch_size=BATCH_SIZE)"
      ],
      "metadata": {
        "id": "xKwihXSUEkU5"
      },
      "execution_count": null,
      "outputs": []
    },
    {
      "cell_type": "code",
      "source": [
        "model = nn.Sequential(\n",
        "    nn.Conv2d(1, 64, kernel_size=3, padding=1),\n",
        "    nn.BatchNorm2d(64),\n",
        "    nn.ReLU(),\n",
        "    nn.MaxPool2d(2, stride=2),\n",
        "\n",
        "    nn.Conv2d(64, 128, kernel_size=3, padding=1),\n",
        "    nn.BatchNorm2d(128),\n",
        "    nn.ReLU(),\n",
        "    nn.MaxPool2d(2, stride=2),\n",
        "\n",
        "    nn.Conv2d(128, 256, kernel_size=3, padding=1),\n",
        "    nn.BatchNorm2d(256),\n",
        "    nn.ReLU(),\n",
        "    nn.MaxPool2d(2, stride=2),\n",
        "\n",
        "    nn.Flatten(),\n",
        "    nn.Linear(256 * 3 * 3, 512),\n",
        "    nn.ReLU(),\n",
        "    nn.Dropout(0.3),\n",
        "\n",
        "    nn.Linear(512, 256),\n",
        "    nn.ReLU(),\n",
        "    nn.Dropout(0.2),\n",
        "\n",
        "    nn.Linear(256, 10),\n",
        ").to(dev)\n",
        "lr, num_epochs = 0.0001, 10\n",
        "trainer = torch.optim.Adam(model.parameters(), lr=lr)\n",
        "%time train_model(model, train, test, trainer, num_epochs)"
      ],
      "metadata": {
        "colab": {
          "base_uri": "https://localhost:8080/"
        },
        "id": "CKj5NTHUElkh",
        "outputId": "3a4d257f-3b6f-410b-fbc7-4402743a2cb6"
      },
      "execution_count": null,
      "outputs": [
        {
          "output_type": "stream",
          "name": "stdout",
          "text": [
            "epoch 1, loss 0.4327, train acc 0.877, test acc 0.887\n",
            "epoch 2, loss 0.1059, train acc 0.969, test acc 0.916\n",
            "epoch 3, loss 0.0635, train acc 0.982, test acc 0.940\n",
            "epoch 4, loss 0.0417, train acc 0.988, test acc 0.945\n",
            "epoch 5, loss 0.0299, train acc 0.992, test acc 0.946\n",
            "epoch 6, loss 0.0212, train acc 0.994, test acc 0.946\n",
            "epoch 7, loss 0.0176, train acc 0.995, test acc 0.950\n",
            "epoch 8, loss 0.0112, train acc 0.997, test acc 0.947\n",
            "epoch 9, loss 0.0107, train acc 0.997, test acc 0.948\n",
            "epoch 10, loss 0.0100, train acc 0.997, test acc 0.953\n",
            "CPU times: user 1min 58s, sys: 417 ms, total: 1min 58s\n",
            "Wall time: 1min 59s\n"
          ]
        }
      ]
    },
    {
      "cell_type": "markdown",
      "source": [
        "Модель показала хорошие результата, можно отметить, что точность на тестовой выборке начиная с 3 запуска стабильно держит высокий уровень, однако по сравнению с предыдущем не увеличила среднее значение точности, что говорит о том, что выбор гиперпараметров в прошлом обучении был оптимальным."
      ],
      "metadata": {
        "id": "7JwQVfTHQx2-"
      }
    }
  ]
}